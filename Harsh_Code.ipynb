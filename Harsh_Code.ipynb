{
  "nbformat": 4,
  "nbformat_minor": 0,
  "metadata": {
    "colab": {
      "provenance": []
    },
    "kernelspec": {
      "name": "python3",
      "display_name": "Python 3"
    },
    "language_info": {
      "name": "python"
    }
  },
  "cells": [
    {
      "cell_type": "code",
      "execution_count": null,
      "metadata": {
        "id": "qOjjXrHhkILs"
      },
      "outputs": [],
      "source": [
        "# installing packages\n",
        "!pip -qqq install tabula-py\n",
        "!pip install PdfReader\n",
        "!pip install streamlit\n"
      ]
    },
    {
      "cell_type": "code",
      "source": [
        "#importing packages required\n",
        "from datetime import date, datetime\n",
        "import plotly.express as px\n",
        "from tabula import read_pdf\n",
        "import pandas as pd\n",
        "import csv\n",
        "import streamlit as st"
      ],
      "metadata": {
        "id": "PGxDFaPhgN9Y"
      },
      "execution_count": 2,
      "outputs": []
    },
    {
      "cell_type": "code",
      "source": [
        "#reading pdf file page wise\n",
        "st.title('Visualize Your Bank Statement')\n",
        "link = \"/content/hdfc1.pdf\"\n",
        "dfs = read_pdf(link, pages=1)"
      ],
      "metadata": {
        "id": "ODARjC-8iD5f"
      },
      "execution_count": null,
      "outputs": []
    },
    {
      "cell_type": "code",
      "source": [
        "# Save the DataFrame to a CSV file\n",
        "final_df.to_csv('data.csv', index=False)\n",
        "df=pd.read_csv('data.csv')"
      ],
      "metadata": {
        "id": "yKuiV__TnP2A"
      },
      "execution_count": 48,
      "outputs": []
    },
    {
      "cell_type": "code",
      "source": [
        "# Concatenate DataFrames into a single DataFrame\n",
        "final_df = pd.concat(dfs, ignore_index=True)\n",
        "# Converting the datatypes\n",
        "final_df['Withdrawal Amt.'] = pd.to_numeric(final_df['Withdrawal Amt.'].str.replace(',', ''), errors='coerce')\n",
        "final_df['Deposit Amt.'] = pd.to_numeric(final_df['Deposit Amt.'].str.replace(',', ''), errors='coerce')\n",
        "final_df['Date'] = pd.to_datetime(final_df['Date'].str.replace(',',''),errors='coerce')\n",
        "final_df['Date'] = pd.to_datetime(df['Date'], format='%Y-%m-%d').dt.date\n",
        "final_df['Value Dt'] = pd.to_datetime(final_df['Value Dt'].str.replace(',',''),errors='coerce')\n",
        "final_df['Value Dt'] = pd.to_datetime(df['Value Dt'], format='%Y-%m-%d').dt.date\n",
        "final_df['Closing Balance'] = pd.to_numeric(final_df['Closing Balance'].str.replace(',', ''), errors='coerce')\n",
        "final_df['Chq./Ref.No.'] = pd.to_numeric(final_df['Chq./Ref.No.'].str.replace(',', ''), errors='coerce')\n",
        "final_df['Narration'] = pd.to_numeric(final_df['Narration'].str.replace(',', ''), errors='coerce')\n",
        "\n",
        "\n",
        "#formula for calculations\n",
        "\n",
        "total_withdrawal = df['Withdrawal Amt.'].sum()\n",
        "print(\"Total Withdrwal:\" ,total_withdrawal)\n",
        "total_deposit = df['Deposit Amt.'].sum()\n",
        "print(\"Total deposit:\" ,total_deposit)\n",
        "opening_balance = df['Closing Balance'].iloc[0] + final_df['Withdrawal Amt.'].iloc[0]\n",
        "print(f\"Total Withdrawal and Deposit: Rs {total_withdrawal} - Rs {total_deposit}\")\n",
        "print(f\"Closing and Opening Balance: {df['Closing Balance'].iloc[-3]} and {opening_balance}\")\n",
        "valid_dates = final_df['Date'].dropna()\n",
        "total_valid_dates = len(valid_dates)\n",
        "print(f\"Total Transactions: {total_valid_dates}\")\n",
        "\n",
        "\n"
      ],
      "metadata": {
        "colab": {
          "base_uri": "https://localhost:8080/"
        },
        "id": "RUrrV-xknHmi",
        "outputId": "e5fa2548-bb80-48b0-a181-2d5a8c0e0052"
      },
      "execution_count": 81,
      "outputs": [
        {
          "output_type": "stream",
          "name": "stdout",
          "text": [
            "Total Withdrwal: 55083.74\n",
            "Total deposit: 33189.0\n",
            "Total Withdrawal and Deposit: Rs 55083.74 - Rs 33189.0\n",
            "Closing and Opening Balance: 11172.85 and 33067.59\n",
            "Total Transactions: 13\n"
          ]
        }
      ]
    },
    {
      "cell_type": "code",
      "source": [
        "#reading page 2\n",
        "link = \"/content/hdfc1.pdf\"\n",
        "dfs1 = read_pdf(link, pages='all')[1]  # Note the change to 'dfs'\n",
        "dfs1 = dfs1.iloc[0:5]\n"
      ],
      "metadata": {
        "id": "LHAmKmZSoxsH"
      },
      "execution_count": null,
      "outputs": []
    },
    {
      "cell_type": "code",
      "source": [
        "# Save the DataFrame to a CSV file\n",
        "dfs1.to_csv('data1.csv', index=False)\n",
        "df1=pd.read_csv('data1.csv')"
      ],
      "metadata": {
        "id": "Kzx4wDWQq4HX"
      },
      "execution_count": 59,
      "outputs": []
    },
    {
      "cell_type": "code",
      "source": [
        "df1"
      ],
      "metadata": {
        "id": "rmne5L9asn_F"
      },
      "execution_count": null,
      "outputs": []
    },
    {
      "cell_type": "code",
      "source": [
        "#discontinued\n",
        "#future scope merging pages and giving insight using pyplot and streamlit as a ui.\n"
      ],
      "metadata": {
        "id": "W3Jlz8En8YZA"
      },
      "execution_count": 82,
      "outputs": []
    }
  ]
}